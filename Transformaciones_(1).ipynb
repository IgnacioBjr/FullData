{
  "nbformat": 4,
  "nbformat_minor": 0,
  "metadata": {
    "colab": {
      "provenance": []
    },
    "kernelspec": {
      "name": "python3",
      "display_name": "Python 3"
    },
    "language_info": {
      "name": "python"
    }
  },
  "cells": [
    {
      "cell_type": "markdown",
      "source": [
        "##Transformación de Fechas y horas"
      ],
      "metadata": {
        "id": "1pmu3mi6Dh0R"
      }
    },
    {
      "cell_type": "code",
      "source": [
        "#Importamos librerías\n",
        "from datetime import datetime, date, time, timedelta\n",
        "import datetime\n",
        "import pandas as pd"
      ],
      "metadata": {
        "id": "ul44qE9qDnGQ"
      },
      "execution_count": 2,
      "outputs": []
    },
    {
      "cell_type": "code",
      "source": [
        "#AÑO\n",
        "ahora = datetime.datetime.now()\n",
        "print(\"La fecha y hora actual es: \", ahora)\n",
        "\n",
        "#Este año\n",
        "anio = ahora.year\n",
        "print(\"El año es: \", anio)\n",
        "\n",
        "#Año proximo\n",
        "año_proximo = anio + 1\n",
        "print(\"El año próximo es: \", año_proximo)"
      ],
      "metadata": {
        "id": "nepUFIbtGUBu",
        "colab": {
          "base_uri": "https://localhost:8080/"
        },
        "outputId": "69273573-d2e2-4736-ac72-4c69f65a909c"
      },
      "execution_count": 4,
      "outputs": [
        {
          "output_type": "stream",
          "name": "stdout",
          "text": [
            "La fecha y hora actual es:  2025-09-11 22:35:14.869868\n",
            "El año es:  2025\n",
            "El año próximo es:  2026\n"
          ]
        }
      ]
    },
    {
      "cell_type": "code",
      "source": [
        "#Mes\n",
        "\n",
        "#Mes actual\n",
        "mes_actual = ahora.month\n",
        "print(\"El mes actual es: \", mes_actual)\n",
        "\n",
        "#Mes próximo\n",
        "mes_proximo = mes_actual + 1\n",
        "print(\"El mes próximo es: \", mes_proximo)\n",
        "\n",
        "#Cambio el tipo de dato\n",
        "print(type(mes_proximo))\n",
        "print(type(str(mes_proximo)))"
      ],
      "metadata": {
        "id": "oo9D-S5JG3F7",
        "colab": {
          "base_uri": "https://localhost:8080/"
        },
        "outputId": "e94e8e6a-1be8-40be-d7ef-1c39694c184b"
      },
      "execution_count": 6,
      "outputs": [
        {
          "output_type": "stream",
          "name": "stdout",
          "text": [
            "El mes actual es:  9\n",
            "El mes próximo es:  10\n",
            "<class 'int'>\n",
            "<class 'str'>\n"
          ]
        }
      ]
    },
    {
      "cell_type": "code",
      "source": [
        "#DIA\n",
        "\n",
        "#Dia actual\n",
        "dia_actual = ahora.day\n",
        "print(\"El día actual es: \", dia_actual)\n",
        "\n",
        "#Dia próximo\n",
        "dia_proximo = dia_actual + 1\n",
        "print(\"El día próximo es: \", dia_proximo)"
      ],
      "metadata": {
        "id": "sO11Q6HtH4v0",
        "colab": {
          "base_uri": "https://localhost:8080/"
        },
        "outputId": "a5e0ad4e-fa97-4bee-97af-600bd916e3e0"
      },
      "execution_count": 7,
      "outputs": [
        {
          "output_type": "stream",
          "name": "stdout",
          "text": [
            "El día actual es:  11\n",
            "El día próximo es:  12\n"
          ]
        }
      ]
    },
    {
      "cell_type": "code",
      "execution_count": 8,
      "metadata": {
        "id": "6oFz-6IODYLW",
        "colab": {
          "base_uri": "https://localhost:8080/"
        },
        "outputId": "12eec4b6-a8ff-41f6-fef7-b6977b5f6bdc"
      },
      "outputs": [
        {
          "output_type": "stream",
          "name": "stdout",
          "text": [
            "La hora Greenwich Mean Time (GMT) es:  2025-09-11 22:40:13.406565\n",
            "La hora en Argentina es: 2025-09-11 19:40:13.406565\n"
          ]
        }
      ],
      "source": [
        "#HORA\n",
        "\n",
        "#Hora GMT\n",
        "ahora = datetime.datetime.now()\n",
        "print(\"La hora Greenwich Mean Time (GMT) es: \", ahora)\n",
        "\n",
        "#Hora Argentina (Le restamos 3 horas)\n",
        "hora_arg = ahora - timedelta(hours=3)\n",
        "print(\"La hora en Argentina es:\", hora_arg)\n"
      ]
    },
    {
      "cell_type": "code",
      "source": [
        "# Formatear la hora\n",
        "hora_formateada = ahora.strftime(\"%Y-%m-%d %H:%M:%S\")\n",
        "\n",
        "# Imprimir la hora formateada\n",
        "print(\"La hora actual es:\", hora_formateada)"
      ],
      "metadata": {
        "id": "rWMSLs3AFuPc",
        "colab": {
          "base_uri": "https://localhost:8080/"
        },
        "outputId": "e7607baa-4fbd-43a7-b156-b89dcc9053c1"
      },
      "execution_count": 9,
      "outputs": [
        {
          "output_type": "stream",
          "name": "stdout",
          "text": [
            "La hora actual es: 2025-09-11 22:40:13\n"
          ]
        }
      ]
    },
    {
      "cell_type": "markdown",
      "source": [
        "##Transformación de Strings a enteros"
      ],
      "metadata": {
        "id": "qVAyoAIcJzQo"
      }
    },
    {
      "cell_type": "code",
      "source": [
        "#Cambio el tipo de dato, de string a enteros\n",
        "\n",
        "numero = \"15\"\n",
        "\n",
        "print(type(numero))\n",
        "\n",
        "print(f\"El numero ingresado es : {numero} y el tipo es:  {type(numero)} \")"
      ],
      "metadata": {
        "id": "XR6dWuCaJ38f",
        "colab": {
          "base_uri": "https://localhost:8080/"
        },
        "outputId": "5b5a675d-ca4e-45e1-fc22-fb2e99be9949"
      },
      "execution_count": 10,
      "outputs": [
        {
          "output_type": "stream",
          "name": "stdout",
          "text": [
            "<class 'str'>\n",
            "El numero ingresado es : 15 y el tipo es:  <class 'str'> \n"
          ]
        }
      ]
    },
    {
      "cell_type": "code",
      "source": [
        "#convertimos el dato de estring a enteros\n",
        "numero = int(numero)\n",
        "\n",
        "print(f\"El numero ingresado es : {numero} y el tipo es:  {type(numero)} \")"
      ],
      "metadata": {
        "id": "b7fzxXrSLLJn",
        "colab": {
          "base_uri": "https://localhost:8080/"
        },
        "outputId": "c97eccc1-e0c1-454d-82b4-98cfb3c48695"
      },
      "execution_count": 11,
      "outputs": [
        {
          "output_type": "stream",
          "name": "stdout",
          "text": [
            "El numero ingresado es : 15 y el tipo es:  <class 'int'> \n"
          ]
        }
      ]
    },
    {
      "cell_type": "markdown",
      "source": [
        "##Transformación de Strings a decimales"
      ],
      "metadata": {
        "id": "pDYWvtaPLv06"
      }
    },
    {
      "cell_type": "code",
      "source": [
        "#Cambio el tipo de dato, de string a enteros\n",
        "\n",
        "numero = \"10.1\"\n",
        "\n",
        "print(f\"El numero ingresado es : {numero} y el tipo es:  {type(numero)} \")"
      ],
      "metadata": {
        "id": "Yu3Hsd2bLx7R",
        "colab": {
          "base_uri": "https://localhost:8080/"
        },
        "outputId": "b15b4f4f-5587-48c0-892b-17346d33c9d0"
      },
      "execution_count": 12,
      "outputs": [
        {
          "output_type": "stream",
          "name": "stdout",
          "text": [
            "El numero ingresado es : 10.1 y el tipo es:  <class 'str'> \n"
          ]
        }
      ]
    },
    {
      "cell_type": "code",
      "source": [
        "#convertimos el dato de estring a enteros\n",
        "numero = float(numero)\n",
        "\n",
        "print(f\"El numero ingresado es : {numero} y el tipo es:  {type(numero)} \")"
      ],
      "metadata": {
        "id": "8LHxTxfZL8eY",
        "colab": {
          "base_uri": "https://localhost:8080/"
        },
        "outputId": "33dd2bd0-da6f-4829-9483-a682f8ca0f8c"
      },
      "execution_count": 13,
      "outputs": [
        {
          "output_type": "stream",
          "name": "stdout",
          "text": [
            "El numero ingresado es : 10.1 y el tipo es:  <class 'float'> \n"
          ]
        }
      ]
    },
    {
      "cell_type": "markdown",
      "source": [
        "##Transformación, join de datasets"
      ],
      "metadata": {
        "id": "6pCfMK9KMa1h"
      }
    },
    {
      "cell_type": "code",
      "source": [
        "\n",
        "# Notas de Matemática y Lengua\n",
        "df1 = pd.DataFrame({'Alumno': ['Alumno0', 'Alumno1', 'Alumno2'],\n",
        "                    'Matermática': ['5', '6', '7'],\n",
        "                    'Lengua': ['7', '7', '8']\n",
        "                    })\n",
        "\n",
        "# Notas de Historia y Geografía\n",
        "df2 = pd.DataFrame({'Alumno': ['Alumno0', 'Alumno2', 'Alumno3'],\n",
        "                    'Historia': ['4', '5', '4'],\n",
        "                    'Geografía': ['6', '7', '9']\n",
        "                    })\n",
        "\n",
        "# Mostramos los dataframes\n",
        "print(df1)\n",
        "print('           ')\n",
        "print(df2)\n",
        "\n"
      ],
      "metadata": {
        "id": "NfT7OdDtNg0d",
        "colab": {
          "base_uri": "https://localhost:8080/"
        },
        "outputId": "81febbbc-c95e-41ba-e5c3-d4e743816737"
      },
      "execution_count": 14,
      "outputs": [
        {
          "output_type": "stream",
          "name": "stdout",
          "text": [
            "    Alumno Matermática Lengua\n",
            "0  Alumno0           5      7\n",
            "1  Alumno1           6      7\n",
            "2  Alumno2           7      8\n",
            "           \n",
            "    Alumno Historia Geografía\n",
            "0  Alumno0        4         6\n",
            "1  Alumno2        5         7\n",
            "2  Alumno3        4         9\n"
          ]
        }
      ]
    },
    {
      "cell_type": "code",
      "source": [
        "# Hacemos join de los dataframes y mostramos las notas\n",
        "\n",
        "merged_df = pd.merge(df1, df2, on='Alumno', how='inner')\n",
        "print(merged_df)"
      ],
      "metadata": {
        "id": "5u_k4tr0SCgp",
        "colab": {
          "base_uri": "https://localhost:8080/"
        },
        "outputId": "40dc636b-273d-4a77-8b25-59a6801c90bb"
      },
      "execution_count": 15,
      "outputs": [
        {
          "output_type": "stream",
          "name": "stdout",
          "text": [
            "    Alumno Matermática Lengua Historia Geografía\n",
            "0  Alumno0           5      7        4         6\n",
            "1  Alumno2           7      8        5         7\n"
          ]
        }
      ]
    },
    {
      "cell_type": "markdown",
      "source": [
        "##Substitución de datos faltante por un tipo de dato default"
      ],
      "metadata": {
        "id": "Rv1PhlReXRaZ"
      }
    },
    {
      "cell_type": "code",
      "source": [
        "#Reemplazamos nulos por ceros\n",
        "\n",
        "# Creando un DataFrame\n",
        "df = pd.DataFrame({'columna1': [1, 2, None, 4],\n",
        "                   'columna2': [5, None, None, 8]})\n",
        "\n",
        "# Rellenando los valores nulos con 0\n",
        "df = df.fillna(0) #Podemos reemplazar el cero por el valor que necesitemos\n",
        "print(df)\n"
      ],
      "metadata": {
        "id": "v68zUZ3yXVyL",
        "colab": {
          "base_uri": "https://localhost:8080/"
        },
        "outputId": "0e391e8e-9373-4ab0-81b5-5b78d7ac1e09"
      },
      "execution_count": 16,
      "outputs": [
        {
          "output_type": "stream",
          "name": "stdout",
          "text": [
            "   columna1  columna2\n",
            "0       1.0       5.0\n",
            "1       2.0       0.0\n",
            "2       0.0       0.0\n",
            "3       4.0       8.0\n"
          ]
        }
      ]
    },
    {
      "cell_type": "markdown",
      "source": [
        "##Filtrar datos que rompen reglas de negocio o porque no los necesitemos"
      ],
      "metadata": {
        "id": "92xDXtCoZbVe"
      }
    },
    {
      "cell_type": "code",
      "source": [
        "\n",
        "# Creamos un DataFrame de ejemplo\n",
        "data = {'producto': ['A', 'B', 'C', 'D'],\n",
        "        'precio': [5, 15, 8, 20]}\n",
        "df = pd.DataFrame(data)\n",
        "\n",
        "print(df)\n"
      ],
      "metadata": {
        "id": "o3m7TB6yZnXx",
        "colab": {
          "base_uri": "https://localhost:8080/"
        },
        "outputId": "c046f1dc-5274-4a1b-d362-194a3d3f166a"
      },
      "execution_count": 17,
      "outputs": [
        {
          "output_type": "stream",
          "name": "stdout",
          "text": [
            "  producto  precio\n",
            "0        A       5\n",
            "1        B      15\n",
            "2        C       8\n",
            "3        D      20\n"
          ]
        }
      ]
    },
    {
      "cell_type": "code",
      "source": [
        "# Filtrar los productos con precio menor a 10\n",
        "df_filtrado = df[df['precio'] < 10]\n",
        "print(df_filtrado)"
      ],
      "metadata": {
        "id": "gD87fIRUZrXz",
        "colab": {
          "base_uri": "https://localhost:8080/"
        },
        "outputId": "42f2b0b8-d507-4b5c-8a1c-18006a1ceaca"
      },
      "execution_count": 18,
      "outputs": [
        {
          "output_type": "stream",
          "name": "stdout",
          "text": [
            "  producto  precio\n",
            "0        A       5\n",
            "2        C       8\n"
          ]
        }
      ]
    },
    {
      "cell_type": "markdown",
      "source": [
        "##Eliminar columnas que no son necesarias"
      ],
      "metadata": {
        "id": "JQssgWdSZ8CF"
      }
    },
    {
      "cell_type": "code",
      "source": [
        "\n",
        "# Creamos un DataFrame de ejemplo\n",
        "data = {'nombre': ['Ana', 'Pedro', 'María'],\n",
        "        'edad': [30, 25, 32],\n",
        "        'ciudad': ['Madrid', 'Barcelona', 'Sevilla'],\n",
        "        'correo': ['ana@example.com', 'pedro@example.com', 'maria@example.com'],\n",
        "        'telefono': [123456789, 987654321, 567891234]}\n",
        "df = pd.DataFrame(data)\n",
        "\n",
        "print(df)"
      ],
      "metadata": {
        "id": "DA6LSOxOZ_11",
        "colab": {
          "base_uri": "https://localhost:8080/"
        },
        "outputId": "de4ae844-4aac-4bf0-dbe4-62859ea2aca0"
      },
      "execution_count": 19,
      "outputs": [
        {
          "output_type": "stream",
          "name": "stdout",
          "text": [
            "  nombre  edad     ciudad             correo   telefono\n",
            "0    Ana    30     Madrid    ana@example.com  123456789\n",
            "1  Pedro    25  Barcelona  pedro@example.com  987654321\n",
            "2  María    32    Sevilla  maria@example.com  567891234\n"
          ]
        }
      ]
    },
    {
      "cell_type": "code",
      "source": [
        "# Eliminar las columnas 'correo' y 'telefono'\n",
        "columnas_a_eliminar = ['correo', 'telefono']\n",
        "\n",
        "#axis=1: Se refiere a las columnas.\n",
        "#inplace=True: modifica el DataFrame original en lugar de crear una copia y realizar los cambios en ella\n",
        "df.drop(columnas_a_eliminar, axis=1, inplace=True)\n",
        "\n",
        "print(df)"
      ],
      "metadata": {
        "id": "nTW98L5caFDr",
        "colab": {
          "base_uri": "https://localhost:8080/"
        },
        "outputId": "12546dcf-2023-4701-9860-4705f788f4bc"
      },
      "execution_count": 20,
      "outputs": [
        {
          "output_type": "stream",
          "name": "stdout",
          "text": [
            "  nombre  edad     ciudad\n",
            "0    Ana    30     Madrid\n",
            "1  Pedro    25  Barcelona\n",
            "2  María    32    Sevilla\n"
          ]
        }
      ]
    }
  ]
}